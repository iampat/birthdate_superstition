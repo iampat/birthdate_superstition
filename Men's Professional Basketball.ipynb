{
 "cells": [
  {
   "cell_type": "code",
   "execution_count": 1,
   "metadata": {},
   "outputs": [],
   "source": [
    "from __future__ import print_function\n",
    "\n",
    "import calendar\n",
    "import csv\n",
    "import collections\n",
    "import matplotlib.pyplot as plt\n",
    "import pprint as pp\n",
    "import numpy as np\n",
    "import scipy as sp\n",
    "import scipy.stats"
   ]
  },
  {
   "cell_type": "code",
   "execution_count": 2,
   "metadata": {},
   "outputs": [],
   "source": [
    "# For more info please visit\n",
    "# https://www.kaggle.com/open-source-sports/mens-professional-basketball/version/2#basketball_master.csv\n",
    "dataset_file = 'data/mens_profeccional_basketball/basketball_master.csv'\n",
    "month_names = [calendar.month_name[i + 1] for i in xrange(12)]"
   ]
  },
  {
   "cell_type": "code",
   "execution_count": 3,
   "metadata": {},
   "outputs": [],
   "source": [
    "with open(dataset_file) as fin:\n",
    "    reader = csv.DictReader(fin)\n",
    "    players = [player for player in reader]"
   ]
  },
  {
   "cell_type": "code",
   "execution_count": 4,
   "metadata": {},
   "outputs": [
    {
     "name": "stdout",
     "output_type": "stream",
     "text": [
      "{'bioID': 'abdulka01',\n",
      " 'birthCity': 'New York',\n",
      " 'birthCountry': 'USA',\n",
      " 'birthDate': '1947-04-16',\n",
      " 'birthState': 'NY',\n",
      " 'college': 'UCLA',\n",
      " 'collegeOther': '',\n",
      " 'deathDate': '0000-00-00',\n",
      " 'firstName': 'Kareem',\n",
      " 'firstseason': '0',\n",
      " 'fullGivenName': 'Ferdinand Lewis Alcindor, Jr.',\n",
      " 'height': '85.00',\n",
      " 'highSchool': 'Power Memorial',\n",
      " 'hsCity': 'New York',\n",
      " 'hsCountry': 'USA',\n",
      " 'hsState': 'NY',\n",
      " 'lastName': 'Abdul-Jabbar',\n",
      " 'lastseason': '0',\n",
      " 'middleName': '',\n",
      " 'nameGiven': '',\n",
      " 'nameNick': 'Lew, Cap',\n",
      " 'nameSuffix': '',\n",
      " 'pos': 'C',\n",
      " 'race': 'B',\n",
      " 'useFirst': 'Kareem',\n",
      " 'weight': '225'}\n"
     ]
    }
   ],
   "source": [
    "# Prints a sample player\n",
    "pp.pprint(players[1])"
   ]
  },
  {
   "cell_type": "code",
   "execution_count": 5,
   "metadata": {},
   "outputs": [],
   "source": [
    "# Removes player with invalid Birth Date\n",
    "players = [player for player in players if (player['birthDate'] and player['birthDate'] != '0000-00-00')]"
   ]
  },
  {
   "cell_type": "code",
   "execution_count": 14,
   "metadata": {},
   "outputs": [
    {
     "name": "stdout",
     "output_type": "stream",
     "text": [
      "('01', '02', '03', '04', '05', '06', '07', '08', '09', '10', '11', '12')\n"
     ]
    }
   ],
   "source": [
    "def GetBirthMonths(players):\n",
    "    birth_dates = [player['birthDate'] for player in players] \n",
    "    birth_months = [birth_date.split('-')[1] for birth_date in birth_dates ]\n",
    "    month_frequency = collections.Counter(birth_months)\n",
    "    del month_frequency['00']  # '00' is for unknow birth dates\n",
    "    months, frequencies = zip(*sorted(month_frequency.items()))\n",
    "    print(months)\n",
    "    return months, frequencies\n",
    "_, frequencies = GetBirthMonths(players)"
   ]
  },
  {
   "cell_type": "code",
   "execution_count": 25,
   "metadata": {},
   "outputs": [],
   "source": [
    "def Report(frequencies):\n",
    "    plt.bar(range(12), frequencies)\n",
    "    plt.ylim(0, 450)\n",
    "    plt.xticks(range(12), month_names, rotation='vertical')\n",
    "    plt.show()\n",
    "    print(frequencies)\n",
    "    print('Number of players:', sum(frequencies))\n",
    "    print('Mean: ', np.mean(frequencies))\n",
    "    print('Min: %d\\tMedian: %d\\tMax: %d' %(\n",
    "        np.min(frequencies), np.median(frequencies), np.max(frequencies)))\n",
    "    print('Variance: %0.2f=%0.2f^2' %(np.var(frequency), np.std(frequencies)))\n",
    "    print('Chi Squere Test:', sp.stats.chisquare(frequency))"
   ]
  },
  {
   "cell_type": "code",
   "execution_count": 26,
   "metadata": {},
   "outputs": [
    {
     "data": {
      "image/png": "[encoded data removed]",
      "text/plain": [
       "<Figure size 432x288 with 1 Axes>"
      ]
     },
     "metadata": {
      "needs_background": "light"
     },
     "output_type": "display_data"
    },
    {
     "name": "stdout",
     "output_type": "stream",
     "text": [
      "(355, 397, 376, 367, 421, 335, 360, 376, 375, 356, 399, 391)\n",
      "Number of players: 4508\n",
      "Mean:  375.6666666666667\n",
      "Min: 335\tMedian: 375\tMax: 421\n",
      "Variance: 506.56=22.51^2\n",
      "Chi Squere Test: Power_divergenceResult(statistic=16.181011535048803, pvalue=0.13454281820888378)\n"
     ]
    }
   ],
   "source": [
    "Report(frequency)"
   ]
  },
  {
   "cell_type": "code",
   "execution_count": 27,
   "metadata": {},
   "outputs": [],
   "source": [
    "# Keeps only USA Players\n",
    "players_us_only = [player for player in players if player['birthCountry'] == 'USA']"
   ]
  },
  {
   "cell_type": "code",
   "execution_count": 28,
   "metadata": {},
   "outputs": [
    {
     "name": "stdout",
     "output_type": "stream",
     "text": [
      "('01', '02', '03', '04', '05', '06', '07', '08', '09', '10', '11', '12')\n"
     ]
    },
    {
     "data": {
      "image/png": "[encoded data removed]",
      "text/plain": [
       "<Figure size 432x288 with 1 Axes>"
      ]
     },
     "metadata": {
      "needs_background": "light"
     },
     "output_type": "display_data"
    },
    {
     "name": "stdout",
     "output_type": "stream",
     "text": [
      "(293, 299, 296, 260, 293, 288, 337, 280, 312, 315, 291, 275)\n",
      "Number of players: 3539\n",
      "Mean:  294.9166666666667\n",
      "Min: 260\tMedian: 293\tMax: 337\n",
      "Variance: 506.56=19.13^2\n",
      "Chi Squere Test: Power_divergenceResult(statistic=16.181011535048803, pvalue=0.13454281820888378)\n"
     ]
    }
   ],
   "source": [
    "_, frequencies = GetBirthMonths(players_us_only)\n",
    "Report(frequencies)"
   ]
  }
 ],
 "metadata": {
  "kernelspec": {
   "display_name": "Python 2",
   "language": "python",
   "name": "python2"
  },
  "language_info": {
   "codemirror_mode": {
    "name": "ipython",
    "version": 2
   },
   "file_extension": ".py",
   "mimetype": "text/x-python",
   "name": "python",
   "nbconvert_exporter": "python",
   "pygments_lexer": "ipython2",
   "version": "2.7.10"
  }
 },
 "nbformat": 4,
 "nbformat_minor": 2
}
